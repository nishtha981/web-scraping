{
 "cells": [
  {
   "cell_type": "markdown",
   "id": "5770cfea",
   "metadata": {},
   "source": [
    "## putting function as loan type"
   ]
  },
  {
   "cell_type": "code",
   "execution_count": 13,
   "id": "11ea15db",
   "metadata": {},
   "outputs": [
    {
     "data": {
      "text/html": [
       "<div>\n",
       "<style scoped>\n",
       "    .dataframe tbody tr th:only-of-type {\n",
       "        vertical-align: middle;\n",
       "    }\n",
       "\n",
       "    .dataframe tbody tr th {\n",
       "        vertical-align: top;\n",
       "    }\n",
       "\n",
       "    .dataframe thead th {\n",
       "        text-align: right;\n",
       "    }\n",
       "</style>\n",
       "<table border=\"1\" class=\"dataframe\">\n",
       "  <thead>\n",
       "    <tr style=\"text-align: right;\">\n",
       "      <th></th>\n",
       "      <th>Applicant ID</th>\n",
       "      <th>Loan Type</th>\n",
       "      <th>Gender</th>\n",
       "      <th>Marital Status</th>\n",
       "      <th>Accomodation Type</th>\n",
       "      <th>No of years in the current address</th>\n",
       "      <th>No. of Years in the current job</th>\n",
       "      <th>Monthly Salary</th>\n",
       "      <th>Balance in Savings Account</th>\n",
       "      <th>Loan Amount Requested</th>\n",
       "      <th>Term</th>\n",
       "      <th>Down Payment</th>\n",
       "      <th>EMI Affordable</th>\n",
       "    </tr>\n",
       "  </thead>\n",
       "  <tbody>\n",
       "    <tr>\n",
       "      <th>0</th>\n",
       "      <td>1</td>\n",
       "      <td>Home Loan</td>\n",
       "      <td>Male</td>\n",
       "      <td>Married</td>\n",
       "      <td>Family Other</td>\n",
       "      <td>32</td>\n",
       "      <td>7</td>\n",
       "      <td>8000</td>\n",
       "      <td>1406</td>\n",
       "      <td>500000</td>\n",
       "      <td>120</td>\n",
       "      <td>700000</td>\n",
       "      <td>8690</td>\n",
       "    </tr>\n",
       "    <tr>\n",
       "      <th>1</th>\n",
       "      <td>2</td>\n",
       "      <td>Home Loan</td>\n",
       "      <td>Male</td>\n",
       "      <td>Married</td>\n",
       "      <td>Family Other</td>\n",
       "      <td>3</td>\n",
       "      <td>17</td>\n",
       "      <td>30000</td>\n",
       "      <td>42235</td>\n",
       "      <td>1000000</td>\n",
       "      <td>180</td>\n",
       "      <td>300000</td>\n",
       "      <td>16000</td>\n",
       "    </tr>\n",
       "    <tr>\n",
       "      <th>2</th>\n",
       "      <td>3</td>\n",
       "      <td>Home Loan</td>\n",
       "      <td>Male</td>\n",
       "      <td>Married</td>\n",
       "      <td>Company Provided</td>\n",
       "      <td>7</td>\n",
       "      <td>8</td>\n",
       "      <td>8000</td>\n",
       "      <td>15217</td>\n",
       "      <td>700000</td>\n",
       "      <td>120</td>\n",
       "      <td>955000</td>\n",
       "      <td>15000</td>\n",
       "    </tr>\n",
       "    <tr>\n",
       "      <th>3</th>\n",
       "      <td>4</td>\n",
       "      <td>Home Improvement</td>\n",
       "      <td>Male</td>\n",
       "      <td>Married</td>\n",
       "      <td>Owned</td>\n",
       "      <td>15</td>\n",
       "      <td>7</td>\n",
       "      <td>20462</td>\n",
       "      <td>29551</td>\n",
       "      <td>250000</td>\n",
       "      <td>84</td>\n",
       "      <td>250000</td>\n",
       "      <td>5856</td>\n",
       "    </tr>\n",
       "    <tr>\n",
       "      <th>4</th>\n",
       "      <td>5</td>\n",
       "      <td>Home Loan</td>\n",
       "      <td>Male</td>\n",
       "      <td>Married</td>\n",
       "      <td>Family Other</td>\n",
       "      <td>4</td>\n",
       "      <td>10</td>\n",
       "      <td>13534</td>\n",
       "      <td>2056</td>\n",
       "      <td>400000</td>\n",
       "      <td>180</td>\n",
       "      <td>700000</td>\n",
       "      <td>6157</td>\n",
       "    </tr>\n",
       "  </tbody>\n",
       "</table>\n",
       "</div>"
      ],
      "text/plain": [
       "   Applicant ID         Loan Type Gender Marital Status Accomodation Type  \\\n",
       "0             1         Home Loan   Male        Married      Family Other   \n",
       "1             2         Home Loan   Male        Married      Family Other   \n",
       "2             3         Home Loan   Male        Married  Company Provided   \n",
       "3             4  Home Improvement   Male        Married             Owned   \n",
       "4             5         Home Loan   Male        Married      Family Other   \n",
       "\n",
       "   No of years in the current address  No. of Years in the current job  \\\n",
       "0                                  32                                7   \n",
       "1                                   3                               17   \n",
       "2                                   7                                8   \n",
       "3                                  15                                7   \n",
       "4                                   4                               10   \n",
       "\n",
       "   Monthly Salary  Balance in Savings Account  Loan Amount Requested  Term  \\\n",
       "0            8000                        1406                 500000   120   \n",
       "1           30000                       42235                1000000   180   \n",
       "2            8000                       15217                 700000   120   \n",
       "3           20462                       29551                 250000    84   \n",
       "4           13534                        2056                 400000   180   \n",
       "\n",
       "   Down Payment   EMI Affordable   \n",
       "0         700000             8690  \n",
       "1         300000            16000  \n",
       "2         955000            15000  \n",
       "3         250000             5856  \n",
       "4         700000             6157  "
      ]
     },
     "execution_count": 13,
     "metadata": {},
     "output_type": "execute_result"
    }
   ],
   "source": [
    "import pandas as pd\n",
    "import seaborn as sns\n",
    "import numpy as np\n",
    "import matplotlib.pyplot as plt\n",
    "import math\n",
    "import scipy\n",
    "import scipy.stats as st\n",
    "data = pd.read_csv(\"BKB.csv\")\n",
    "\n",
    "homeloan=data[data['Loan Type'] == 'Home Loan']\n",
    "nohomeloan=data[data['Loan Type'] != 'Home Loan']\n",
    "\n",
    "data.head()"
   ]
  },
  {
   "cell_type": "markdown",
   "id": "b3577743",
   "metadata": {},
   "source": [
    "## Labelling the functions for married and unmarried population\n"
   ]
  },
  {
   "cell_type": "markdown",
   "id": "055a5746",
   "metadata": {},
   "source": [
    "## Bernoulli Distribution\n",
    "## This is a single trial. The trial can result in one of the two possible outcomes\n",
    "## labelled as success and failure. Given, any probability space, for any event(set\n",
    "## of outcomes), it is possible to define a bernoulli trial, corresponding to whether\n",
    "## the event occured or not.\n",
    "## X~Bernoulli(P)\n",
    "## What is the probability that any given person is married or unmarried?\n"
   ]
  },
  {
   "cell_type": "code",
   "execution_count": 14,
   "id": "b36d2c0c",
   "metadata": {},
   "outputs": [
    {
     "name": "stdout",
     "output_type": "stream",
     "text": [
      "Probability of homeloanprob: 0.9089026915113871\n",
      "Probability of homeimprovprob : 0.09109730848861283\n"
     ]
    }
   ],
   "source": [
    "totalcount=len(data.index)\n",
    "homeloan=len(homeloan.index)\n",
    "homeimprovement=totalcount-homeloan\n",
    "homeloanprob=homeloan/totalcount\n",
    "homeimprovprob=homeimprovement/totalcount\n",
    "print(\"Probability of homeloanprob:\",homeloanprob)\n",
    "print(\"Probability of homeimprovprob :\",homeimprovprob)"
   ]
  },
  {
   "cell_type": "markdown",
   "id": "7bf9a1b5",
   "metadata": {},
   "source": [
    "## Binomial Distribution\n",
    "## A total of n bernoulli trials are conducted each with the success probability\n",
    "## equal to P. This is similar to the sum of n random variables. The assumptions\n",
    "## here is that each trial has only 2 possible outcomes and they are\n",
    "## independent.\n",
    "## X~Bin(n,P)\n",
    "## What is the probability that any 5 people will be married?"
   ]
  },
  {
   "cell_type": "code",
   "execution_count": 7,
   "id": "883fb1ba",
   "metadata": {},
   "outputs": [
    {
     "name": "stdout",
     "output_type": "stream",
     "text": [
      "Probability of 5 people randomly picked have a home loan is: 1.0\n"
     ]
    }
   ],
   "source": [
    "probability=math.comb(5,5)*((homeloanprob)**5)\n",
    "print(\"Probability of 5 people randomly picked have a home loan is:\",probability)"
   ]
  },
  {
   "cell_type": "markdown",
   "id": "de78e8da",
   "metadata": {},
   "source": [
    "## Normal Distribution\n",
    "## It is defined as a continous frequency distribution of infinte range. It is a\n",
    "## descriptive model that will describe real world situations. We can say that a\n",
    "## variable is normally distributed with mean μ and standard deviation σ, if the\n",
    "## probability density curve is a Gaussian curve/Bell Shaped curve. Therefore, we\n",
    "## first would need to visualize the histogram to find out if the random variable we\n",
    "## are considering is actually in a normal distribution or not."
   ]
  },
  {
   "cell_type": "code",
   "execution_count": null,
   "id": "24986896",
   "metadata": {},
   "outputs": [],
   "source": [
    "data.hist(figsize=(10,10))"
   ]
  },
  {
   "cell_type": "markdown",
   "id": "54544ac5",
   "metadata": {},
   "source": [
    "## To describe the marital status from the dataset given"
   ]
  },
  {
   "cell_type": "code",
   "execution_count": 18,
   "id": "a0cb0044",
   "metadata": {},
   "outputs": [
    {
     "data": {
      "text/plain": [
       "count    3864.000000\n",
       "mean       10.926501\n",
       "std         8.086977\n",
       "min         0.000000\n",
       "25%         5.000000\n",
       "50%        10.000000\n",
       "75%        15.000000\n",
       "max        65.000000\n",
       "Name: No. of Years in the current job, dtype: float64"
      ]
     },
     "execution_count": 18,
     "metadata": {},
     "output_type": "execute_result"
    }
   ],
   "source": [
    "data[\"No. of Years in the current job\"].describe()"
   ]
  },
  {
   "cell_type": "markdown",
   "id": "bb3e751c",
   "metadata": {},
   "source": [
    "## to find the mean, standard deviation and the z value of the \"term\" data"
   ]
  },
  {
   "cell_type": "code",
   "execution_count": 19,
   "id": "223a841e",
   "metadata": {},
   "outputs": [
    {
     "name": "stdout",
     "output_type": "stream",
     "text": [
      "We know the mean is  10.926501035196688  and the standard deviation is 8.0869774527638\n",
      "The value for which whose probability we want to check is between 7 to 10\n",
      "The probability of the term between 7 to 10 is:  0.1407452895471773\n"
     ]
    }
   ],
   "source": [
    "print(\"We know the mean is \",data[\"No. of Years in the current job\"].mean(),\" and the standard deviation is\",data[\"No. of Years in the current job\"].std())\n",
    "print(\"The value for which whose probability we want to check is between 7 to 10\")\n",
    "zvalue1=(7-data[\"No. of Years in the current job\"].mean())/data[\"No. of Years in the current job\"].std()\n",
    "zvalue2=(10-data[\"No. of Years in the current job\"].mean())/data[\"No. of Years in the current job\"].std()\n",
    "zprob1=scipy.stats.norm.cdf(zvalue1)\n",
    "zprob2=scipy.stats.norm.cdf(zvalue2)\n",
    "finalprob=zprob2-zprob1\n",
    "print(\"The probability of the term between 7 to 10 is: \",finalprob)"
   ]
  },
  {
   "cell_type": "markdown",
   "id": "738889c0",
   "metadata": {},
   "source": [
    "## Confidence interval for 95%, 99%, 80%"
   ]
  },
  {
   "cell_type": "code",
   "execution_count": null,
   "id": "ba27745a",
   "metadata": {},
   "outputs": [],
   "source": [
    "st.norm.interval(alpha=0.95,\n",
    " loc=np.mean(data[\"No. of Years in the current job\"]),\n",
    " scale=st.sem(data[\"No. of Years in the current job\"]))"
   ]
  },
  {
   "cell_type": "code",
   "execution_count": null,
   "id": "6157cebc",
   "metadata": {},
   "outputs": [],
   "source": [
    "st.norm.interval(alpha=0.99,\n",
    " loc=np.mean(data[\"No. of Years in the current job\"]),\n",
    " scale=st.sem(data[\"No. of Years in the current job\"]))"
   ]
  },
  {
   "cell_type": "code",
   "execution_count": 20,
   "id": "2455e183",
   "metadata": {},
   "outputs": [
    {
     "data": {
      "text/plain": [
       "(10.759774870908098, 11.093227199485279)"
      ]
     },
     "execution_count": 20,
     "metadata": {},
     "output_type": "execute_result"
    }
   ],
   "source": [
    "st.norm.interval(alpha=0.80,\n",
    " loc=np.mean(data[\"No. of Years in the current job\"]),\n",
    " scale=st.sem(data[\"No. of Years in the current job\"]))"
   ]
  },
  {
   "cell_type": "markdown",
   "id": "c4cf0e2b",
   "metadata": {},
   "source": [
    "## , the Central Limit Theorem states that given a high enough sample size,\n",
    "## the following properties hold true: Sampling distribution's mean = Population\n",
    "## mean (μ), and Sampling distribution's standard deviation (standard error) = σ/√n,\n",
    "## such that for n ≥ 30, the sampling distribution tends to a normal distribution for\n",
    "## all practical purposes.\n",
    "## Here we show the cube distribution of the data\n"
   ]
  },
  {
   "cell_type": "code",
   "execution_count": 22,
   "id": "dfa04fac",
   "metadata": {},
   "outputs": [
    {
     "name": "stdout",
     "output_type": "stream",
     "text": [
      "cube distribution\n"
     ]
    },
    {
     "data": {
      "image/png": "[encoded data removed]",
      "text/plain": [
       "<Figure size 432x288 with 1 Axes>"
      ]
     },
     "metadata": {
      "needs_background": "light"
     },
     "output_type": "display_data"
    },
    {
     "name": "stdout",
     "output_type": "stream",
     "text": [
      "sample size =  3 using 10000 samples\n"
     ]
    },
    {
     "data": {
      "image/png": "[encoded data removed]",
      "text/plain": [
       "<Figure size 432x288 with 1 Axes>"
      ]
     },
     "metadata": {
      "needs_background": "light"
     },
     "output_type": "display_data"
    },
    {
     "name": "stdout",
     "output_type": "stream",
     "text": [
      "sample size =  7 using 10000 samples\n"
     ]
    },
    {
     "data": {
      "image/png": "[encoded data removed]",
      "text/plain": [
       "<Figure size 432x288 with 1 Axes>"
      ]
     },
     "metadata": {
      "needs_background": "light"
     },
     "output_type": "display_data"
    },
    {
     "name": "stdout",
     "output_type": "stream",
     "text": [
      "sample size =  78 using 10000 samples\n"
     ]
    },
    {
     "data": {
      "image/png": "[encoded data removed]",
      "text/plain": [
       "<Figure size 432x288 with 1 Axes>"
      ]
     },
     "metadata": {
      "needs_background": "light"
     },
     "output_type": "display_data"
    },
    {
     "name": "stdout",
     "output_type": "stream",
     "text": [
      "sample size =  110 using 10000 samples\n"
     ]
    },
    {
     "data": {
      "image/png": "[encoded data removed]",
      "text/plain": [
       "<Figure size 432x288 with 1 Axes>"
      ]
     },
     "metadata": {
      "needs_background": "light"
     },
     "output_type": "display_data"
    }
   ],
   "source": [
    "import matplotlib.pyplot as plt\n",
    "import numpy as np\n",
    "from random import sample\n",
    "from statistics import mean\n",
    "xs = range(200)[1:]\n",
    "ys = [x^3 for x in xs]\n",
    "print('cube distribution')\n",
    "plt.plot(xs, ys)\n",
    "plt.show()\n",
    "\"I am choosing to create samples of size 3,7,78,110 to show that as the sample size gro\"\n",
    "\"follow normal distribution.\"\n",
    "for sample_number in [3,7,78,110]:\n",
    "\n",
    " \"I have created the different samples using the sample function from the random lib\"\n",
    " \"It creates 10000 samples of the size that I have specified it to. \"\n",
    "\n",
    " s_xs = [sample(xs, sample_number) for i in range(10000)]\n",
    " means = []\n",
    " \"Now I need to calculate the mean of every sample that I have created. \"\n",
    " for s_x in s_xs:\n",
    "     means.append(mean(s_x))\n",
    " print('sample size = ', sample_number,\"using 10000 samples\")\n",
    " plt.hist(means, 40, density=True)\n",
    " plt.show()\n"
   ]
  },
  {
   "cell_type": "markdown",
   "id": "307ffac1",
   "metadata": {},
   "source": []
  },
  {
   "cell_type": "code",
   "execution_count": 23,
   "id": "7827fa3a",
   "metadata": {},
   "outputs": [
    {
     "name": "stdout",
     "output_type": "stream",
     "text": [
      "x cube distribution\n"
     ]
    },
    {
     "data": {
      "image/png": "[encoded data removed]",
      "text/plain": [
       "<Figure size 432x288 with 1 Axes>"
      ]
     },
     "metadata": {
      "needs_background": "light"
     },
     "output_type": "display_data"
    },
    {
     "name": "stdout",
     "output_type": "stream",
     "text": [
      "sample size =  3 using 10000 samples\n"
     ]
    },
    {
     "data": {
      "image/png": "[encoded data removed]",
      "text/plain": [
       "<Figure size 432x288 with 1 Axes>"
      ]
     },
     "metadata": {
      "needs_background": "light"
     },
     "output_type": "display_data"
    },
    {
     "name": "stdout",
     "output_type": "stream",
     "text": [
      "sample size =  7 using 10000 samples\n"
     ]
    },
    {
     "data": {
      "image/png": "[encoded data removed]",
      "text/plain": [
       "<Figure size 432x288 with 1 Axes>"
      ]
     },
     "metadata": {
      "needs_background": "light"
     },
     "output_type": "display_data"
    },
    {
     "name": "stdout",
     "output_type": "stream",
     "text": [
      "sample size =  78 using 10000 samples\n"
     ]
    },
    {
     "data": {
      "image/png": "[encoded data removed]",
      "text/plain": [
       "<Figure size 432x288 with 1 Axes>"
      ]
     },
     "metadata": {
      "needs_background": "light"
     },
     "output_type": "display_data"
    },
    {
     "name": "stdout",
     "output_type": "stream",
     "text": [
      "sample size =  110 using 10000 samples\n"
     ]
    },
    {
     "data": {
      "image/png": "[encoded data removed]",
      "text/plain": [
       "<Figure size 432x288 with 1 Axes>"
      ]
     },
     "metadata": {
      "needs_background": "light"
     },
     "output_type": "display_data"
    }
   ],
   "source": [
    "xs = range(200)[1:]\n",
    "ys = [x^3 for x in xs]\n",
    "print('x cube distribution')\n",
    "plt.plot(xs, ys)\n",
    "plt.show()\n",
    "for sample_number in [3,7,78,110]:\n",
    "     s_xs = [sample(xs, sample_number) for i in range(10000)]\n",
    "     means = []\n",
    "     for s_x in s_xs:\n",
    "         means.append(mean(s_x))\n",
    "     print('sample size = ', sample_number,\"using 10000 samples\")\n",
    "     plt.hist(means, 40, density=True)\n",
    "     plt.show()\n"
   ]
  },
  {
   "cell_type": "code",
   "execution_count": null,
   "id": "9fe091f4",
   "metadata": {},
   "outputs": [],
   "source": []
  },
  {
   "cell_type": "markdown",
   "id": "a326c98f",
   "metadata": {},
   "source": [
    "## Binomial"
   ]
  },
  {
   "cell_type": "code",
   "execution_count": null,
   "id": "72306514",
   "metadata": {},
   "outputs": [],
   "source": []
  }
 ],
 "metadata": {
  "kernelspec": {
   "display_name": "Python 3 (ipykernel)",
   "language": "python",
   "name": "python3"
  },
  "language_info": {
   "codemirror_mode": {
    "name": "ipython",
    "version": 3
   },
   "file_extension": ".py",
   "mimetype": "text/x-python",
   "name": "python",
   "nbconvert_exporter": "python",
   "pygments_lexer": "ipython3",
   "version": "3.9.7"
  }
 },
 "nbformat": 4,
 "nbformat_minor": 5
}
